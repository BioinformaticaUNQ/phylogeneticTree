{
 "cells": [
  {
   "cell_type": "code",
   "execution_count": 46,
   "metadata": {},
   "outputs": [],
   "source": [
    "from Bio import SeqIO\n",
    "from Bio import AlignIO\n",
    "from enum import Enum"
   ]
  },
  {
   "cell_type": "code",
   "execution_count": 3,
   "metadata": {},
   "outputs": [],
   "source": [
    "nucleicAcids = [\"A\", \"C\", \"G\", \"T\", \"U\", \"R\", \"Y\", \"K\", \"M\", \"S\", \"W\", \"B\", \"D\", \"H\", \"V\", \"N\", \"X\", \"-\"]\n",
    "aminoAcids = [\"A\", \"B\", \"C\", \"D\", \"E\", \"F\", \"G\", \"H\", \"I\", \"K\", \"L\", \"M\", \"N\", \"O\", \"P\", \"Q\", \"R\", \"S\", \"T\", \"U\", \"V\", \"W\", \"Y\", \"Z\", \"X\", \"*\", \"-\"]\n",
    "\n",
    "class SequenceType(Enum):\n",
    "    NUCLEIC_ACID = 1\n",
    "    AMINO_ACID = 2\n"
   ]
  },
  {
   "cell_type": "code",
   "execution_count": 38,
   "metadata": {},
   "outputs": [],
   "source": [
    "def checkSequenceIsNucleicAcid(seq):\n",
    "    for elem in seq:\n",
    "        if (elem not in nucleicAcids):\n",
    "            return False\n",
    "    return True\n",
    "\n",
    "def checkSequenceIsAminoAcid(seq):\n",
    "    for elem in seq:\n",
    "        if (elem not in aminoAcids):\n",
    "            return False\n",
    "    return True\n",
    "\n",
    "def checkSequence(seq):\n",
    "    if (checkSequenceIsNucleicAcid(seq)):\n",
    "        return SequenceType.NUCLEIC_ACID\n",
    "    if (checkSequenceIsAminoAcid(seq)):\n",
    "        return SequenceType.AMINO_ACID\n",
    "    raise Exception(f\"Sequence not valid: {seq.id}\")\n",
    "\n",
    "def checkAllSameType(sequences):\n",
    "    if (not sequences):\n",
    "        raise Exception(\"Not found sequences\")\n",
    "    sequenceType = None\n",
    "    for sequence in sequences:\n",
    "        if (not sequenceType):\n",
    "          sequenceType = checkSequence(sequence)\n",
    "        if (checkSequence(sequence) != sequenceType):\n",
    "            raise Exception(f\"Sequence {sequence.id} is not a {sequenceType}\")\n",
    "    return sequenceType"
   ]
  },
  {
   "cell_type": "code",
   "execution_count": 39,
   "metadata": {},
   "outputs": [],
   "source": [
    "def isAlignment(sequences):\n",
    "    seqLength = None\n",
    "    containsAlignmentMarks = False\n",
    "    for sequence in sequences:\n",
    "        if (not seqLength):\n",
    "            seqLength = sequence.length\n",
    "        if (sequence.length != seqLength):\n",
    "            return False\n",
    "        containsAlignmentMarks = containsAlignmentMarks or (('X' or '*' or '-') in sequence.seq)\n",
    "    return containsAlignmentMarks"
   ]
  },
  {
   "cell_type": "code",
   "execution_count": 60,
   "metadata": {},
   "outputs": [],
   "source": [
    "def readFasta(fileName):\n",
    "    sequences = SeqIO.parse(fileName, \"fasta\")\n",
    "    sequenceType = checkAllSameType(sequences)\n",
    "    print(sequenceType)\n",
    "    print(sequences)\n",
    "    if (not isAlignment(sequences)):\n",
    "        print(\"Not Alignment\")\n",
    "        sequences = AlignIO.parse(open(fileName), \"fasta\")\n",
    "        output_handle = open(\"example.sth\", \"w\")\n",
    "        AlignIO.write(sequences, output_handle, \"fasta\")\n",
    "    print(\"Alignment\", sequences)\n",
    "\n",
    "\n"
   ]
  },
  {
   "cell_type": "code",
   "execution_count": 61,
   "metadata": {
    "tags": []
   },
   "outputs": [
    {
     "output_type": "stream",
     "name": "stdout",
     "text": "SequenceType.NUCLEIC_ACID\n<Bio.SeqIO.FastaIO.FastaIterator object at 0x7febbc781f90>\nNot Alignment\nAlignment <generator object parse at 0x7febbd5423d0>\n"
    }
   ],
   "source": [
    "readFasta(\"1fasta.txt\")"
   ]
  },
  {
   "cell_type": "code",
   "execution_count": null,
   "metadata": {},
   "outputs": [],
   "source": []
  }
 ],
 "metadata": {
  "language_info": {
   "codemirror_mode": {
    "name": "ipython",
    "version": 3
   },
   "file_extension": ".py",
   "mimetype": "text/x-python",
   "name": "python",
   "nbconvert_exporter": "python",
   "pygments_lexer": "ipython3",
   "version": "3.7.6-final"
  },
  "orig_nbformat": 2,
  "kernelspec": {
   "name": "python3",
   "display_name": "Python 3"
  }
 },
 "nbformat": 4,
 "nbformat_minor": 2
}