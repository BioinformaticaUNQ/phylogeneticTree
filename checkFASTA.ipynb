{
 "cells": [
  {
   "cell_type": "code",
   "execution_count": 1,
   "metadata": {},
   "outputs": [],
   "source": [
    "from Bio import SeqIO\n",
    "from Bio import AlignIO \n",
    "from enum import Enum"
   ]
  },
  {
   "cell_type": "code",
   "execution_count": 2,
   "metadata": {},
   "outputs": [],
   "source": [
    "nucleicAcids = [\"A\", \"C\", \"G\", \"T\", \"U\", \"R\", \"Y\", \"K\", \"M\", \"S\", \"W\", \"B\", \"D\", \"H\", \"V\", \"N\", \"X\", \"-\"]\n",
    "aminoAcids = [\"A\", \"B\", \"C\", \"D\", \"E\", \"F\", \"G\", \"H\", \"I\", \"K\", \"L\", \"M\", \"N\", \"O\", \"P\", \"Q\", \"R\", \"S\", \"T\", \"U\", \"V\", \"W\", \"Y\", \"Z\", \"X\", \"*\", \"-\"]\n",
    "\n",
    "class SequenceType(Enum):\n",
    "    NUCLEIC_ACID = 1\n",
    "    AMINO_ACID = 2\n"
   ]
  },
  {
   "cell_type": "code",
   "execution_count": 34,
   "metadata": {},
   "outputs": [],
   "source": [
    "def checkSequenceIsNucleicAcid(seq):\n",
    "    for elem in seq:\n",
    "        if (elem not in nucleicAcids):\n",
    "            return False\n",
    "    return True\n",
    "\n",
    "def checkSequenceIsAminoAcid(seq):\n",
    "    for elem in seq:\n",
    "        if (elem not in aminoAcids):\n",
    "            return False\n",
    "    return True\n",
    "\n",
    "def checkSequence(seq):\n",
    "    if (checkSequenceIsNucleicAcid(seq)):\n",
    "        return SequenceType.NUCLEIC_ACID\n",
    "    if (checkSequenceIsAminoAcid(seq)):\n",
    "        return SequenceType.AMINO_ACID\n",
    "    raise Exception(f\"Sequence not valid: {seq.id}\")\n",
    "\n",
    "def checkAllSameType(sequences):\n",
    "    if (not sequences):\n",
    "        raise Exception(\"Not found sequences\")\n",
    "    sequenceType = None\n",
    "    for sequence in sequences:\n",
    "        if (not sequenceType):\n",
    "          sequenceType = checkSequence(sequence)\n",
    "        if (checkSequence(sequence) != sequenceType):\n",
    "            raise Exception(f\"Sequence {sequence.id} is not a {sequenceType}\")\n",
    "    return sequenceType"
   ]
  },
  {
   "cell_type": "code",
   "execution_count": 4,
   "metadata": {},
   "outputs": [],
   "source": [
    "def isAlignment(sequences):\n",
    "    seqLength = None\n",
    "    containsAlignmentMarks = False\n",
    "    for sequence in sequences:\n",
    "        if (not seqLength):\n",
    "            seqLength = sequence.length\n",
    "        if (sequence.length != seqLength):\n",
    "            return False\n",
    "        containsAlignmentMarks = containsAlignmentMarks or ('-' in sequence.seq)\n",
    "    return containsAlignmentMarks"
   ]
  },
  {
   "cell_type": "code",
   "execution_count": 33,
   "metadata": {},
   "outputs": [],
   "source": [
    "def readFasta(fileName):\n",
    "    sequences = SeqIO.parse(fileName, \"fasta\")\n",
    "    sequenceType = checkAllSameType(sequences)\n",
    "    if (not isAlignment(sequences)):\n",
    "        print(\"Not Alignment\")\n",
    "        sequences = AlignIO.parse(open(fileName), \"fasta\")\n",
    "        output_handle = open(\"example.sth\", \"w\")\n",
    "        AlignIO.write(sequences, output_handle, \"fasta\")\n",
    "    print(\"Alignment\", sequences)\n"
   ]
  },
  {
   "cell_type": "code",
   "execution_count": 37,
   "metadata": {
    "tags": []
   },
   "outputs": [
    {
     "name": "stdout",
     "output_type": "stream",
     "text": [
      "Not Alignment\n",
      "Alignment <generator object parse at 0x000001F263BA8848>\n"
     ]
    }
   ],
   "source": [
    "readFasta(\"fasta.txt\")"
   ]
  },
  {
   "cell_type": "code",
   "execution_count": null,
   "metadata": {},
   "outputs": [],
   "source": []
  },
  {
   "cell_type": "code",
   "execution_count": null,
   "metadata": {},
   "outputs": [],
   "source": []
  },
  {
   "cell_type": "code",
   "execution_count": null,
   "metadata": {},
   "outputs": [],
   "source": []
  },
  {
   "cell_type": "code",
   "execution_count": null,
   "metadata": {},
   "outputs": [],
   "source": []
  },
  {
   "cell_type": "code",
   "execution_count": null,
   "metadata": {},
   "outputs": [],
   "source": []
  },
  {
   "cell_type": "code",
   "execution_count": null,
   "metadata": {},
   "outputs": [],
   "source": []
  },
  {
   "cell_type": "code",
   "execution_count": null,
   "metadata": {},
   "outputs": [],
   "source": []
  }
 ],
 "metadata": {
  "kernelspec": {
   "display_name": "Python 3",
   "language": "python",
   "name": "python3"
  },
  "language_info": {
   "codemirror_mode": {
    "name": "ipython",
    "version": 3
   },
   "file_extension": ".py",
   "mimetype": "text/x-python",
   "name": "python",
   "nbconvert_exporter": "python",
   "pygments_lexer": "ipython3",
   "version": "3.7.6"
  }
 },
 "nbformat": 4,
 "nbformat_minor": 2
}
