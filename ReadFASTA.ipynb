{
 "cells": [
  {
   "cell_type": "markdown",
   "metadata": {},
   "source": [
    "## Archivo:\n",
    "\n",
    "### Header\n",
    "\n",
    " * GenBank                           gi|gi-number|gb|accesión|location\n",
    "\n",
    " * EMBL Data Library                 gi|gi-number|emb|accesión|location\n",
    " \n",
    " * DDBJ, DNA Database of Japan       gi|gi-number|dbj|accesión|location (lat=xXx,lng=xXx)\n",
    " \n",
    "https://classroom.google.com/u/0/c/NTQ5MzQ3MDU2NzNa/a/MTA5Mjg2OTUyOTc0/details"
   ]
  },
  {
   "cell_type": "code",
   "execution_count": 93,
   "metadata": {},
   "outputs": [],
   "source": [
    "from enum import Enum\n",
    "import re\n",
    "\n",
    "class SequenceType(Enum):\n",
    "    NUCLEIC_ACID = 1\n",
    "    AMINO_ACID = 2\n",
    "\n",
    "class Header:\n",
    "    def __init__(self, seqHeader):\n",
    "        header = seqHeader.split('|')\n",
    "        if (len(header) < 6):\n",
    "            raise Exception(f\"Error on Header: {seqHeader}\")\n",
    "        self.genBankId = header[1]\n",
    "        self.db = header[2]\n",
    "        self.accession = header[3]\n",
    "        self.locus = header[4]\n",
    "        try:\n",
    "            self.location = Location(header[5])\n",
    "        except Exception:\n",
    "            raise Exception(f\"Error on Location: {seqHeader}\")\n",
    "\n",
    "    def __repr__(self):\n",
    "        return f\"{self.genBankId} - {self.db} - {self.accession} - {self.locus} - {self.location}\"\n",
    "\n",
    "class Location:\n",
    "    def __init__(self, location):\n",
    "        header = re.search('lat=([0-9.,]*),lng=([0-9.,]*)', location)\n",
    "        if (header == None):\n",
    "            raise Exception(\"Location not found\")\n",
    "        self.lat = header.group(1)\n",
    "        self.lng = header.group(2)\n",
    "\n",
    "    def __repr__(self):\n",
    "        return f\"(lat={self.lat}, lng={self.lng})\"\n",
    "\n",
    "class Sequence:\n",
    "    def __init__(self, seq):\n",
    "        self.sequenceType = checkSequence(seq)\n",
    "        self.header = Header(seq.id)\n",
    "        self.seq = seq.seq\n",
    "    \n",
    "    def size(self):\n",
    "        return len(self.seq)\n",
    "    \n",
    "    def __repr__(self):\n",
    "        return f\"Header: {self.header} | Type: {self.sequenceType} | Seq: {self.seq}\"\n"
   ]
  },
  {
   "cell_type": "code",
   "execution_count": 103,
   "metadata": {},
   "outputs": [],
   "source": [
    "nucleicAcids = [\"A\", \"C\", \"G\", \"T\", \"U\", \"R\", \"Y\", \"K\", \"M\", \"S\", \"W\", \"B\", \"D\", \"H\", \"V\", \"N\", \"X\", \"-\"]\n",
    "aminoAcids = [\"A\", \"B\", \"C\", \"D\", \"E\", \"F\", \"G\", \"H\", \"I\", \"K\", \"L\", \"M\", \"N\", \"O\", \"P\", \"Q\", \"R\", \"S\", \"T\", \"U\", \"V\", \"W\", \"Y\", \"Z\", \"X\", \"*\", \"-\"]\n",
    "\n",
    "def checkSequenceIsNucleicAcid(seq):\n",
    "    for elem in seq:\n",
    "        if (elem not in nucleicAcids):\n",
    "            return False\n",
    "    return True\n",
    "\n",
    "def checkSequenceIsAminoAcid(seq):\n",
    "    for elem in seq:\n",
    "        if (elem not in aminoAcids):\n",
    "            return False\n",
    "    return True\n",
    "\n",
    "def checkSequence(seq):\n",
    "    if (checkSequenceIsNucleicAcid(seq)):\n",
    "        return SequenceType.NUCLEIC_ACID\n",
    "    if (checkSequenceIsAminoAcid(seq)):\n",
    "        return SequenceType.AMINO_ACID\n",
    "    raise Exception(f\"Sequence not valid: {seq.id}\")\n",
    "\n",
    "def isAlignment(sequences):\n",
    "    seqLength = sequences[0].size()\n",
    "    containsAlignmentMarks = False\n",
    "    for sequence in sequences:\n",
    "        if (sequence.size() != seqLength):\n",
    "            return False\n",
    "        containsAlignmentMarks = containsAlignmentMarks or (('X' or '*' or '-') in sequence.seq)\n",
    "    return containsAlignmentMarks\n"
   ]
  },
  {
   "cell_type": "code",
   "execution_count": 81,
   "metadata": {},
   "outputs": [],
   "source": [
    "from Bio import SeqIO"
   ]
  },
  {
   "cell_type": "code",
   "execution_count": 82,
   "metadata": {},
   "outputs": [],
   "source": [
    "def readFasta(fileName):\n",
    "    sequences = list(map(Sequence, SeqIO.parse(fileName, \"fasta\")))\n",
    "    if (isAlignment(sequences)):\n",
    "        \n",
    "    else:\n",
    "        print (\"not Aligment\")"
   ]
  },
  {
   "cell_type": "code",
   "execution_count": 104,
   "metadata": {
    "tags": []
   },
   "outputs": [
    {
     "output_type": "stream",
     "name": "stdout",
     "text": "not Aligment\n"
    }
   ],
   "source": [
    "readFasta(\"1fasta.txt\")"
   ]
  },
  {
   "cell_type": "code",
   "execution_count": null,
   "metadata": {},
   "outputs": [],
   "source": []
  }
 ],
 "metadata": {
  "kernelspec": {
   "display_name": "Python 3",
   "language": "python",
   "name": "python3"
  },
  "language_info": {
   "codemirror_mode": {
    "name": "ipython",
    "version": 3
   },
   "file_extension": ".py",
   "mimetype": "text/x-python",
   "name": "python",
   "nbconvert_exporter": "python",
   "pygments_lexer": "ipython3",
   "version": "3.7.6-final"
  }
 },
 "nbformat": 4,
 "nbformat_minor": 4
}