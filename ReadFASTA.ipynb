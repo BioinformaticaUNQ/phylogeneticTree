{
 "cells": [
  {
   "cell_type": "markdown",
   "metadata": {},
   "source": [
    "## Archivo:\n",
    "    \n",
    "    genBankId|Name|location    \n",
    "    seq\n",
    "    \n",
    "https://classroom.google.com/u/0/c/NTQ5MzQ3MDU2NzNa/a/MTA5Mjg2OTUyOTc0/details"
   ]
  },
  {
   "cell_type": "code",
   "execution_count": 32,
   "metadata": {},
   "outputs": [],
   "source": [
    "from Bio import SeqIO\n",
    "\n",
    "nucleicAcids = [\"A\", \"C\", \"G\", \"T\", \"U\", \"R\", \"Y\", \"K\", \"M\", \"S\", \"W\", \"B\", \"D\", \"H\", \"V\", \"N\", \"X\", \"-\"]\n",
    "aminoAcids = [\"A\", \"B\", \"C\", \"D\", \"E\", \"F\", \"G\", \"H\", \"I\", \"K\", \"L\", \"M\", \"N\", \"O\", \"P\", \"Q\", \"R\", \"S\", \"T\", \"U\", \"V\", \"W\", \"Y\", \"Z\", \"X\", \"*\", \"-\"]"
   ]
  },
  {
   "cell_type": "code",
   "execution_count": 81,
   "metadata": {},
   "outputs": [],
   "source": [
    "def checkSequenceIsNucleicAcid(seq):\n",
    "    for elem in seq:\n",
    "        if (elem not in nucleicAcids):\n",
    "            return False\n",
    "    return True\n",
    "\n",
    "def checkSequenceIsAminoAcid(seq):\n",
    "    for elem in seq:\n",
    "        if (elem not in aminoAcids):\n",
    "            return False\n",
    "    return True\n",
    "\n",
    "def checkSequence(seq):\n",
    "    if (checkSequenceIsNucleicAcid(seq)):\n",
    "        return SequenceType.NUCLEIC_ACID\n",
    "    if (checkSequenceIsAminoAcid(seq)):\n",
    "        return SequenceType.AMINO_ACID\n",
    "    raise Exception(f\"Sequence not valid: {seq.id}\")"
   ]
  },
  {
   "cell_type": "code",
   "execution_count": 82,
   "metadata": {},
   "outputs": [],
   "source": [
    "from enum import Enum\n",
    "\n",
    "class SequenceType(Enum):\n",
    "    NUCLEIC_ACID = 1\n",
    "    AMINO_ACID = 2\n",
    "    \n",
    "class Sequence:\n",
    "    def __init__(self, seq):\n",
    "        self.sequenceType = checkSequence(seq)\n",
    "        self.header = seq.id\n",
    "        self.seq = seq.seq\n",
    "    \n",
    "    def size(self):\n",
    "        return len(self.seq)\n",
    "    \n",
    "    def __repr__(self):\n",
    "        return f\"Header: {self.header} | Type: {self.sequenceType} | Seq: {self.seq}\"\n"
   ]
  },
  {
   "cell_type": "code",
   "execution_count": 88,
   "metadata": {},
   "outputs": [],
   "source": [
    "def readFasta(fileName):\n",
    "    sequences = map(Sequence, SeqIO.parse(fileName, \"fasta\"))\n",
    "    for seq in sequences:\n",
    "        print(seq)"
   ]
  },
  {
   "cell_type": "code",
   "execution_count": 89,
   "metadata": {},
   "outputs": [
    {
     "name": "stdout",
     "output_type": "stream",
     "text": [
      "Header: sp|P69905|HBA_HUMAN | Type: SequenceType.AMINO_ACID | Seq: MVLSPADKTNVKAAWGKVGAHAGEYGAEALERMFLSFPTTKTYFPHFDLSHGSAQVKGHGKKVADALTNAVAHVDDMPNALSALSDLHAHKLRVDPVNFKLLSHCLLVTLAAHLPAEFTPAVHASLDKFLASVSTVLTSKYR\n",
      "Header: sp|P01942|HBA_MOUSE | Type: SequenceType.AMINO_ACID | Seq: MVLSGEDKSNIKAAWGKIGGHGAEYGAEALERMFASFPTTKTYFPHFDVSHGSAQVKGHGKKVADALASAAGHLDDLPGALSALSDLHAHKLRVDPVNFKLLSHCLLVTLASHHPADFTPAVHASLDKFLASVSTVLTSKYR\n",
      "Header: sp|P13786|HBAZ_CAPHI | Type: SequenceType.AMINO_ACID | Seq: MSLTRTERTIILSLWSKISTQADVIGTETLERLFSCYPQAKTYFPHFDLHSGSAQLRAHGSKVVAAVGDAVKSIDNVTSALSKLSELHAYVLRVDPVNFKFLSHCLLVTLASHFPADFTADAHAAWDKFLSIVSGVLTEKYR\n",
      "Header: sp|P13786|HBAZ_CAPHI | Type: SequenceType.AMINO_ACID | Seq: MSLTRTERTIILSLWSKISTQADVIGTETLERLFSCYPQAKTYFPHFDLHSGSAQLRAHGSKVVAAVGDAVKSIDNVTSALSKLSELHAYVLRVDPVNFKFLSHCLLVTLASHFPADFTADAHAAWDKFLSIVSGVLTEKYR\n"
     ]
    }
   ],
   "source": [
    "readFasta(\"fasta.txt\")"
   ]
  }
 ],
 "metadata": {
  "kernelspec": {
   "display_name": "Python 3",
   "language": "python",
   "name": "python3"
  },
  "language_info": {
   "codemirror_mode": {
    "name": "ipython",
    "version": 3
   },
   "file_extension": ".py",
   "mimetype": "text/x-python",
   "name": "python",
   "nbconvert_exporter": "python",
   "pygments_lexer": "ipython3",
   "version": "3.7.6"
  }
 },
 "nbformat": 4,
 "nbformat_minor": 4
}
